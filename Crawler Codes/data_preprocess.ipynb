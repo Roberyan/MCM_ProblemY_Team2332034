{
 "cells": [
  {
   "cell_type": "code",
   "execution_count": 2,
   "metadata": {},
   "outputs": [],
   "source": [
    "import pandas as pd\n",
    "import numpy as np"
   ]
  },
  {
   "cell_type": "code",
   "execution_count": 13,
   "metadata": {},
   "outputs": [],
   "source": [
    "originalFile = \"./data/2023_MCM_Problem_Y_Boats.xlsx\"\n",
    "\n",
    "data_MonohulledSailboats = pd.read_excel(originalFile,sheet_name=\"Monohulled Sailboats \")\n",
    "data_Catamarans = pd.read_excel(originalFile,sheet_name=\"Catamarans\")\n",
    "\n",
    "columnsName = {\n",
    "    0: 'Make', \n",
    "    1: 'Variant', \n",
    "    2: 'Length \\n(ft)', \n",
    "    3: 'Geographic Region', \n",
    "    4: 'Country/Region/State ', \n",
    "    5: 'Listing Price (USD)', \n",
    "    6: 'Year'}\n",
    "# columnItems = data_Catamarans.columns.values \n",
    "# columnDic = dict(zip(range(columnItems.size), columnItems))\n",
    "# print(columnDic)\n",
    "# data_Catamarans.info()"
   ]
  },
  {
   "cell_type": "code",
   "execution_count": 14,
   "metadata": {},
   "outputs": [
    {
     "name": "stdout",
     "output_type": "stream",
     "text": [
      "Make: type<class 'str'>\n",
      "Variant: type<class 'str'>\n",
      "Length \n",
      "(ft): type<class 'numpy.float64'>\n",
      "Geographic Region: type<class 'str'>\n",
      "Country/Region/State : type<class 'str'>\n",
      "Listing Price (USD): type<class 'numpy.int64'>\n",
      "Year: type<class 'str'>\n"
     ]
    }
   ],
   "source": [
    "sample1 = data_Catamarans.iloc[0]\n",
    "for (key, value) in columnsName.items():\n",
    "    print(\"{}: type{}\".format(value, type(sample1[key])))"
   ]
  }
 ],
 "metadata": {
  "kernelspec": {
   "display_name": "My",
   "language": "python",
   "name": "python3"
  },
  "language_info": {
   "codemirror_mode": {
    "name": "ipython",
    "version": 3
   },
   "file_extension": ".py",
   "mimetype": "text/x-python",
   "name": "python",
   "nbconvert_exporter": "python",
   "pygments_lexer": "ipython3",
   "version": "3.9.12"
  },
  "orig_nbformat": 4
 },
 "nbformat": 4,
 "nbformat_minor": 2
}
