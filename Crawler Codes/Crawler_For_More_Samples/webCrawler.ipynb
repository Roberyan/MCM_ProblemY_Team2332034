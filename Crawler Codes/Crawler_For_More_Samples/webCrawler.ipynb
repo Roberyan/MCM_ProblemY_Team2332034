{
 "cells": [
  {
   "cell_type": "code",
   "execution_count": 2,
   "metadata": {},
   "outputs": [],
   "source": [
    "import requests\n",
    "from bs4 import BeautifulSoup\n",
    "import time\n",
    "import random"
   ]
  },
  {
   "attachments": {},
   "cell_type": "markdown",
   "metadata": {},
   "source": [
    "### 抓取搜索列表船只链接"
   ]
  },
  {
   "cell_type": "code",
   "execution_count": 3,
   "metadata": {},
   "outputs": [],
   "source": [
    "# time.sleep(random.randint(0,3)) \n",
    "targetWebURL = \"https://www.yachtworld.com/boats-for-sale/type-sail/?page=1\"\n",
    "headers = {'User-Agent':'Mozilla/5.0 (X11; Linux x86_64) AppleWebKit/537.36 (KHTML, like Gecko) Chrome/52.0.2743.116 Safari/537.36'}\n",
    "page = requests.get(targetWebURL, headers=headers)\n",
    "soup = BeautifulSoup(page.content, \"html.parser\")\n"
   ]
  },
  {
   "cell_type": "code",
   "execution_count": 3,
   "metadata": {},
   "outputs": [
    {
     "name": "stdout",
     "output_type": "stream",
     "text": [
      "[('8414888', 'https://www.yachtworld.com/yacht/2011-catalina-355-8414888/'), ('8627590', \"https://www.yachtworld.com/yacht/1997-freedom-35'-8627590/\"), ('8250854', 'https://www.yachtworld.com/yacht/2006-beneteau-343-8250854/'), ('8567163', 'https://www.yachtworld.com/yacht/2006-delphia-40-8567163/'), ('8095959', 'https://www.yachtworld.com/yacht/1968-hinckley-bermuda-40-mkii-8095959/'), ('8626029', 'https://www.yachtworld.com/yacht/2011-jeanneau-44i-8626029/'), ('8592752', 'https://www.yachtworld.com/yacht/2023-jeanneau-sun-odyssey-490-8592752/'), ('8580991', 'https://www.yachtworld.com/yacht/2023-jeanneau-sun-odyssey-440-8580991/'), ('8403570', 'https://www.yachtworld.com/yacht/1993-freedom-35-8403570/'), ('8651102', 'https://www.yachtworld.com/yacht/1998-catalina-34-mkii-8651102/'), ('8766680', 'https://www.yachtworld.com/yacht/2000-beneteau-oceanis-321-8766680/'), ('8580993', 'https://www.yachtworld.com/yacht/2023-jeanneau-sun-odyssey-440-8580993/'), ('8459124', 'https://www.yachtworld.com/yacht/1999-catalina-mk-ii-8459124/'), ('8285468', 'https://www.yachtworld.com/yacht/1999-gozzard-44-8285468/'), ('8592771', 'https://www.yachtworld.com/yacht/2023-jeanneau-sun-odyssey-440-8592771/')]\n"
     ]
    }
   ],
   "source": [
    "sailboatLinks = soup.select(\"div.search-right-col a\")\n",
    "sailboats = []\n",
    "for sample in sailboatLinks:\n",
    "    itemLink = sample.attrs[\"href\"]\n",
    "    try:\n",
    "        itemId = sample.attrs[\"data-reporting-click-product-id\"]\n",
    "    except:\n",
    "        continue\n",
    "    sailboats.append(tuple([itemId,itemLink])) \n",
    "print(sailboats)"
   ]
  },
  {
   "attachments": {},
   "cell_type": "markdown",
   "metadata": {},
   "source": [
    "### 抓取船只页面信息"
   ]
  },
  {
   "cell_type": "code",
   "execution_count": 4,
   "metadata": {},
   "outputs": [],
   "source": [
    "targetWebURL = \"https://www.yachtworld.com/yacht/2012-beneteau-sense-43-8660979/\"\n",
    "page = requests.get(targetWebURL, headers=headers)\n",
    "soup = BeautifulSoup(page.content, \"html.parser\")"
   ]
  },
  {
   "cell_type": "code",
   "execution_count": 7,
   "metadata": {},
   "outputs": [],
   "source": [
    "keys = []\n",
    "values = []\n",
    "infoCursor = soup.select(\"div.boat-details-content .summary\")\n",
    "place = infoCursor[0].find(\n",
    "    'h2', attrs={\"class\": \"location\"}).text.strip()\n",
    "keys.append(\"Location\")\n",
    "values.append(place)\n",
    "\n",
    "price = infoCursor[0].find('span', attrs={\"class\":\"payment-total\"}).text.strip()\n",
    "keys.append(\"Listing Price (USD)\")\n",
    "values.append(price)\n"
   ]
  },
  {
   "cell_type": "code",
   "execution_count": 8,
   "metadata": {},
   "outputs": [
    {
     "name": "stdout",
     "output_type": "stream",
     "text": [
      "Location : Hong Kong, Hong Kong\n",
      "Listing Price (USD) : US$220,000\n",
      "Year : 2012\n",
      "Make : Beneteau\n",
      "Model : Sense 43\n",
      "Class : Cruiser\n",
      "Length : 43.31ft\n",
      "Fuel Type : Diesel\n",
      "Hull Material : Fiberglass\n",
      "Offered By : Simpson Marine Limited - Simpson Marine - Hong Kong\n",
      "Engine Make : Yanmar\n",
      "Engine Model : 4JH5CE\n",
      "Total Power : 54hp\n",
      "Engine Type : Inboard\n",
      "Drive Type : Sail Drive\n",
      "Fuel Type : Diesel\n",
      "Folding Propeller : ✓\n",
      "Length (ft) : 43.31ft\n",
      "Beam : 14.04ft\n"
     ]
    }
   ],
   "source": [
    "# 基本信息获取\n",
    "infoCursor = soup.select(\"div.boat-details-content .details\")\n",
    "tableBasics = infoCursor[0].find('tbody', attrs={\"class\":\"datatable-section\"})\n",
    "for trtag in tableBasics:\n",
    "    tdlist = trtag.find_all(\"td\")\n",
    "    keys.append(tdlist[0].text.strip())\n",
    "    values.append(tdlist[1].text.strip())\n",
    "\n",
    "# 额外信息获取\n",
    "infoCursor = soup.select(\"div.boat-details-content .propulsion\")\n",
    "tablePropulsion = infoCursor[0].find('tbody', attrs={\"class\":\"datatable-section\"})\n",
    "for trtag in tablePropulsion:\n",
    "    tdlist = trtag.find_all(\"td\")\n",
    "    keys.append(tdlist[0].text.strip())\n",
    "    values.append(tdlist[1].text.strip())\n",
    "\n",
    "# for i in range(len(keys)):\n",
    "#     print(keys[i],\":\",values[i])\n",
    "\n",
    "# 船体规格数据\n",
    "infoCursor = soup.select(\"div.boat-details-content .measurements .datatable-category\")\n",
    "for cursor in infoCursor:\n",
    "    if cursor.find(\"h3\", attrs={\"class\":\"sub-title\"}).text.strip() == \"Dimensions\":\n",
    "        dimensionTable = infoCursor[0].find('tbody', attrs={\"class\":\"datatable-section\"})\n",
    "        for trtag in dimensionTable:\n",
    "            tdlist = trtag.find_all(\"td\")\n",
    "            if tdlist[0].text.strip() == \"Length Overall\":\n",
    "                keys.append(\"Length (ft)\")\n",
    "                values.append(tdlist[1].text.strip())\n",
    "            \n",
    "            if tdlist[0].text.strip() == \"Beam\":\n",
    "                keys.append(\"Beam\")\n",
    "                values.append(tdlist[1].text.strip())\n",
    "\n",
    "for i in range(len(keys)):\n",
    "    print(keys[i],\":\",values[i])           \n",
    "        \n",
    "    \n",
    "\n",
    "# dimensionTable = infoCursor[0].find('tbody', attrs={\"class\":\"datatable-section\"})\n",
    "# for trtag in dimensionTable:\n",
    "#     tdlist = trtag.find_all(\"td\")\n",
    "#     keys.append(tdlist[0].text.strip())\n",
    "#     values.append(tdlist[1].text.strip())\n",
    "\n",
    "# tanksTable = infoCursor[1].find('tbody', attrs={\"class\":\"datatable-section\"})\n",
    "# for trtag in tanksTable:\n",
    "#     tdlist = trtag.find_all(\"td\")\n",
    "#     keys.append(tdlist[0].text.strip())\n",
    "#     values.append(tdlist[1].text.strip())\n",
    "\n",
    "# accommodationsTable = infoCursor[2].find('tbody', attrs={\"class\":\"datatable-section\"})\n",
    "# for trtag in accommodationsTable:\n",
    "#     tdlist = trtag.find_all(\"td\")\n",
    "#     keys.append(tdlist[0].text.strip())\n",
    "#     values.append(tdlist[1].text.strip())\n",
    "\n",
    "# for i in range(len(keys)):\n",
    "#     print(keys[i],\":\",values[i])"
   ]
  },
  {
   "cell_type": "code",
   "execution_count": 15,
   "metadata": {},
   "outputs": [
    {
     "name": "stdout",
     "output_type": "stream",
     "text": [
      "dict_keys(['Location', 'Listing Price (USD)', 'Year', 'Make', 'Model', 'Class', 'Length', 'Fuel Type', 'Hull Material', 'Offered By', 'Engine Make', 'Engine Model', 'Total Power', 'Engine Type', 'Drive Type', 'Folding Propeller', 'Length (ft)', 'Beam'])\n",
      "dict_values(['Hong Kong, Hong Kong', 'US$220,000', '2012', 'Beneteau', 'Sense 43', 'Cruiser', '43.31ft', 'Diesel', 'Fiberglass', 'Simpson Marine Limited - Simpson Marine - Hong Kong', 'Yanmar', '4JH5CE', '54hp', 'Inboard', 'Sail Drive', '✓', '43.31ft', '14.04ft'])\n"
     ]
    }
   ],
   "source": [
    "x = dict(zip(keys, values))\n",
    "print(x.keys())\n",
    "print(x.values())"
   ]
  },
  {
   "cell_type": "code",
   "execution_count": 17,
   "metadata": {},
   "outputs": [],
   "source": [
    "import pandas as pd\n",
    "df = pd.DataFrame([x.values()], columns=x.keys())\n",
    "df.to_excel(\"./test.xlsx\")"
   ]
  }
 ],
 "metadata": {
  "kernelspec": {
   "display_name": "base",
   "language": "python",
   "name": "python3"
  },
  "language_info": {
   "codemirror_mode": {
    "name": "ipython",
    "version": 3
   },
   "file_extension": ".py",
   "mimetype": "text/x-python",
   "name": "python",
   "nbconvert_exporter": "python",
   "pygments_lexer": "ipython3",
   "version": "3.9.12"
  },
  "orig_nbformat": 4
 },
 "nbformat": 4,
 "nbformat_minor": 2
}
